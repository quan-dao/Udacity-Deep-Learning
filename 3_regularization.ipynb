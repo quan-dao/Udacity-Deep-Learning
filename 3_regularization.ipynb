{
 "cells": [
  {
   "cell_type": "markdown",
   "metadata": {
    "colab_type": "text",
    "id": "kR-4eNdK6lYS"
   },
   "source": [
    "Deep Learning\n",
    "=============\n",
    "\n",
    "Assignment 3\n",
    "------------\n",
    "\n",
    "Previously in `2_fullyconnected.ipynb`, you trained a logistic regression and a neural network model.\n",
    "\n",
    "The goal of this assignment is to explore regularization techniques."
   ]
  },
  {
   "cell_type": "code",
   "execution_count": 1,
   "metadata": {
    "cellView": "both",
    "colab": {
     "autoexec": {
      "startup": false,
      "wait_interval": 0
     }
    },
    "colab_type": "code",
    "id": "JLpLa8Jt7Vu4"
   },
   "outputs": [],
   "source": [
    "# These are all the modules we'll be using later. Make sure you can import them\n",
    "# before proceeding further.\n",
    "from __future__ import print_function\n",
    "import numpy as np\n",
    "import tensorflow as tf\n",
    "from six.moves import cPickle as pickle"
   ]
  },
  {
   "cell_type": "markdown",
   "metadata": {
    "colab_type": "text",
    "id": "1HrCK6e17WzV"
   },
   "source": [
    "First reload the data we generated in `1_notmnist.ipynb`."
   ]
  },
  {
   "cell_type": "code",
   "execution_count": 2,
   "metadata": {
    "cellView": "both",
    "colab": {
     "autoexec": {
      "startup": false,
      "wait_interval": 0
     },
     "output_extras": [
      {
       "item_id": 1
      }
     ]
    },
    "colab_type": "code",
    "executionInfo": {
     "elapsed": 11777,
     "status": "ok",
     "timestamp": 1449849322348,
     "user": {
      "color": "",
      "displayName": "",
      "isAnonymous": false,
      "isMe": true,
      "permissionId": "",
      "photoUrl": "",
      "sessionId": "0",
      "userId": ""
     },
     "user_tz": 480
    },
    "id": "y3-cj1bpmuxc",
    "outputId": "e03576f1-ebbe-4838-c388-f1777bcc9873"
   },
   "outputs": [
    {
     "name": "stdout",
     "output_type": "stream",
     "text": [
      "Training set (200000, 28, 28) (200000,)\n",
      "Validation set (10000, 28, 28) (10000,)\n",
      "Test set (10000, 28, 28) (10000,)\n"
     ]
    }
   ],
   "source": [
    "pickle_file = 'notMNIST.pickle'\n",
    "\n",
    "with open(pickle_file, 'rb') as f:\n",
    "  save = pickle.load(f)\n",
    "  train_dataset = save['train_dataset']\n",
    "  train_labels = save['train_labels']\n",
    "  valid_dataset = save['valid_dataset']\n",
    "  valid_labels = save['valid_labels']\n",
    "  test_dataset = save['test_dataset']\n",
    "  test_labels = save['test_labels']\n",
    "  del save  # hint to help gc free up memory\n",
    "  print('Training set', train_dataset.shape, train_labels.shape)\n",
    "  print('Validation set', valid_dataset.shape, valid_labels.shape)\n",
    "  print('Test set', test_dataset.shape, test_labels.shape)"
   ]
  },
  {
   "cell_type": "markdown",
   "metadata": {
    "colab_type": "text",
    "id": "L7aHrm6nGDMB"
   },
   "source": [
    "Reformat into a shape that's more adapted to the models we're going to train:\n",
    "- data as a flat matrix,\n",
    "- labels as float 1-hot encodings."
   ]
  },
  {
   "cell_type": "code",
   "execution_count": 3,
   "metadata": {
    "cellView": "both",
    "colab": {
     "autoexec": {
      "startup": false,
      "wait_interval": 0
     },
     "output_extras": [
      {
       "item_id": 1
      }
     ]
    },
    "colab_type": "code",
    "executionInfo": {
     "elapsed": 11728,
     "status": "ok",
     "timestamp": 1449849322356,
     "user": {
      "color": "",
      "displayName": "",
      "isAnonymous": false,
      "isMe": true,
      "permissionId": "",
      "photoUrl": "",
      "sessionId": "0",
      "userId": ""
     },
     "user_tz": 480
    },
    "id": "IRSyYiIIGIzS",
    "outputId": "3f8996ee-3574-4f44-c953-5c8a04636582"
   },
   "outputs": [
    {
     "name": "stdout",
     "output_type": "stream",
     "text": [
      "Training set (200000, 784) (200000, 10)\n",
      "Validation set (10000, 784) (10000, 10)\n",
      "Test set (10000, 784) (10000, 10)\n"
     ]
    }
   ],
   "source": [
    "image_size = 28\n",
    "num_labels = 10\n",
    "\n",
    "def reformat(dataset, labels):\n",
    "  dataset = dataset.reshape((-1, image_size * image_size)).astype(np.float32)\n",
    "  # Map 1 to [0.0, 1.0, 0.0 ...], 2 to [0.0, 0.0, 1.0 ...]\n",
    "  labels = (np.arange(num_labels) == labels[:,None]).astype(np.float32)\n",
    "  return dataset, labels\n",
    "train_dataset, train_labels = reformat(train_dataset, train_labels)\n",
    "valid_dataset, valid_labels = reformat(valid_dataset, valid_labels)\n",
    "test_dataset, test_labels = reformat(test_dataset, test_labels)\n",
    "print('Training set', train_dataset.shape, train_labels.shape)\n",
    "print('Validation set', valid_dataset.shape, valid_labels.shape)\n",
    "print('Test set', test_dataset.shape, test_labels.shape)"
   ]
  },
  {
   "cell_type": "code",
   "execution_count": 4,
   "metadata": {
    "cellView": "both",
    "colab": {
     "autoexec": {
      "startup": false,
      "wait_interval": 0
     }
    },
    "colab_type": "code",
    "id": "RajPLaL_ZW6w"
   },
   "outputs": [],
   "source": [
    "def accuracy(predictions, labels):\n",
    "  return (100.0 * np.sum(np.argmax(predictions, 1) == np.argmax(labels, 1))\n",
    "          / predictions.shape[0])"
   ]
  },
  {
   "cell_type": "markdown",
   "metadata": {
    "colab_type": "text",
    "id": "sgLbUAQ1CW-1"
   },
   "source": [
    "---\n",
    "Problem 1\n",
    "---------\n",
    "\n",
    "Introduce and tune L2 regularization for both logistic and neural network models. Remember that L2 amounts to adding a penalty on the norm of the weights to the loss. In TensorFlow, you can compute the L2 loss for a tensor `t` using `nn.l2_loss(t)`. The right amount of regularization should improve your validation / test accuracy.\n",
    "\n",
    "---"
   ]
  },
  {
   "cell_type": "code",
   "execution_count": 5,
   "metadata": {},
   "outputs": [],
   "source": [
    "def forward_prop(input_dataset, input_weights, input_biases, output_weights, output_biases, keep_prob):\n",
    "    input_out = tf.matmul(input_dataset, input_weights) + input_biases\n",
    "    hidden_out = tf.nn.relu(input_out)\n",
    "    # Add dropout \n",
    "    dropout_layer = tf.nn.dropout(hidden_out, keep_prob)\n",
    "    logits = tf.matmul(dropout_layer, output_weights) + output_biases  # output of hidden layer\n",
    "    return logits\n",
    "\n",
    "\n",
    "batch_size = 128\n",
    "beta = 0.1  # hyper-param of L2 regulization\n",
    "# learning_rate = 0.1  \n",
    "\n",
    "num_hidden_nodes = 1024  # number of ReLU units in hidden layer \n",
    "\n",
    "graph = tf.Graph()\n",
    "with graph.as_default():\n",
    "    global_step = tf.Variable(0)  # count how many steps has been made\n",
    "    # Input data\n",
    "    tf_train_dataset = tf.placeholder(tf.float32, shape=(batch_size, image_size * image_size))\n",
    "    tf_train_labels = tf.placeholder(tf.float32, shape=(batch_size, num_labels))\n",
    "    tf_valid_dataset = tf.constant(valid_dataset)\n",
    "    tf_test_dataset = tf.constant(test_dataset)\n",
    "    \n",
    "    # Network structure\n",
    "    # Input layer\n",
    "    input_weights = tf.Variable(tf.truncated_normal([image_size * image_size, num_hidden_nodes]))\n",
    "    input_biases = tf.Variable(tf.zeros([num_hidden_nodes]))\n",
    "    # output layer\n",
    "    output_weights = tf.Variable(tf.truncated_normal([num_hidden_nodes, num_labels]))\n",
    "    output_biases = tf.Variable(tf.zeros([num_labels]))\n",
    "    \n",
    "    # keep probability\n",
    "    keep_prob = tf.placeholder(tf.float32)\n",
    "    \n",
    "    # Computing graph\n",
    "    logits = forward_prop(tf_train_dataset, input_weights, input_biases, output_weights, output_biases, keep_prob)\n",
    "    \n",
    "    # Loss function\n",
    "    loss = tf.reduce_mean(tf.nn.softmax_cross_entropy_with_logits(labels=tf_train_labels, logits=logits)) \\\n",
    "            + beta * 0.5 * (tf.nn.l2_loss(input_weights) + tf.nn.l2_loss(input_biases) \n",
    "                      + tf.nn.l2_loss(output_weights) + tf.nn.l2_loss(output_biases)) \n",
    "    # Optimizer\n",
    "    learning_rate = tf.train.exponential_decay(0.5, global_step, 50, 0.96)\n",
    "    optimizer = tf.train.GradientDescentOptimizer(learning_rate).minimize(loss, global_step=global_step)\n",
    "    \n",
    "    # Prediction for training, validation, and test data\n",
    "    train_prediction = tf.nn.softmax(logits)\n",
    "    valid_prediction = tf.nn.softmax(forward_prop(tf_valid_dataset, \n",
    "                                                  input_weights, input_biases, output_weights, output_biases, 1))\n",
    "    test_prediction = tf.nn.softmax(forward_prop(tf_test_dataset, \n",
    "                                                  input_weights, input_biases, output_weights, output_biases, 1))\n",
    "    "
   ]
  },
  {
   "cell_type": "code",
   "execution_count": 6,
   "metadata": {},
   "outputs": [
    {
     "name": "stdout",
     "output_type": "stream",
     "text": [
      "Initialized\n",
      "Minibatch loss at step 0: 16189.170898\n",
      "Minibatch accuracy: 10.9%\n",
      "Validation accuracy: 30.2%\n",
      "Minibatch loss at step 500: 1.198824\n",
      "Minibatch accuracy: 78.9%\n",
      "Validation accuracy: 81.7%\n",
      "Minibatch loss at step 1000: 1.205080\n",
      "Minibatch accuracy: 78.1%\n",
      "Validation accuracy: 81.7%\n",
      "Minibatch loss at step 1500: 1.103737\n",
      "Minibatch accuracy: 82.0%\n",
      "Validation accuracy: 82.3%\n",
      "Minibatch loss at step 2000: 1.072599\n",
      "Minibatch accuracy: 82.8%\n",
      "Validation accuracy: 81.9%\n",
      "Minibatch loss at step 2500: 1.226796\n",
      "Minibatch accuracy: 75.8%\n",
      "Validation accuracy: 82.2%\n",
      "Minibatch loss at step 3000: 1.069513\n",
      "Minibatch accuracy: 82.8%\n",
      "Validation accuracy: 82.2%\n",
      "Test accuracy: 88.0%\n"
     ]
    }
   ],
   "source": [
    "num_steps = 3001\n",
    "\n",
    "with tf.Session(graph=graph) as session:\n",
    "    # Initialized tf.placeholder\n",
    "    tf.global_variables_initializer().run()\n",
    "    print(\"Initialized\")\n",
    "    for step in range(num_steps):\n",
    "        # Pick an offset within the training data, which has been randomized.\n",
    "        offset = (step * batch_size) % (train_labels.shape[0] - batch_size)\n",
    "        \n",
    "        # Generate a minibatch.\n",
    "        batch_data = train_dataset[offset:(offset + batch_size), :]\n",
    "        batch_labels = train_labels[offset:(offset + batch_size), :]\n",
    "        \n",
    "        # Prepare a dictionary telling the session where to feed the minibatch.\n",
    "        # The key of the dictionary is the placeholder node of the graph to be fed,\n",
    "        # and the value is the numpy array to feed to it.\n",
    "        feed_dict = {tf_train_dataset : batch_data, tf_train_labels : batch_labels, keep_prob : 0.5}\n",
    "        \n",
    "        _, l, predictions = session.run(\n",
    "            [optimizer, loss, train_prediction], feed_dict=feed_dict)\n",
    "        \n",
    "        if (step % 500 == 0):\n",
    "            print(\"Minibatch loss at step %d: %f\" % (step, l))\n",
    "            print(\"Minibatch accuracy: %.1f%%\" % accuracy(predictions, batch_labels))\n",
    "            print(\"Validation accuracy: %.1f%%\" % accuracy(valid_prediction.eval(), valid_labels))\n",
    "    \n",
    "    #Check out the test accuracy\n",
    "    print(\"Test accuracy: %.1f%%\" % accuracy(test_prediction.eval(), test_labels))"
   ]
  },
  {
   "cell_type": "markdown",
   "metadata": {
    "colab_type": "text",
    "id": "na8xX2yHZzNF"
   },
   "source": [
    "---\n",
    "Problem 2\n",
    "---------\n",
    "Let's demonstrate an extreme case of overfitting. Restrict your training data to just a few batches. What happens?\n",
    "\n",
    "---"
   ]
  },
  {
   "cell_type": "markdown",
   "metadata": {
    "colab_type": "text",
    "id": "ww3SCBUdlkRc"
   },
   "source": [
    "---\n",
    "Problem 3\n",
    "---------\n",
    "Introduce Dropout on the hidden layer of the neural network. Remember: Dropout should only be introduced during training, not evaluation, otherwise your evaluation results would be stochastic as well. TensorFlow provides `nn.dropout()` for that, but you have to make sure it's only inserted during training.\n",
    "\n",
    "What happens to our extreme overfitting case?\n",
    "\n",
    "---"
   ]
  },
  {
   "cell_type": "markdown",
   "metadata": {
    "colab_type": "text",
    "id": "-b1hTz3VWZjw"
   },
   "source": [
    "---\n",
    "Problem 4\n",
    "---------\n",
    "\n",
    "Try to get the best performance you can using a multi-layer model! The best reported test accuracy using a deep network is [97.1%](http://yaroslavvb.blogspot.com/2011/09/notmnist-dataset.html?showComment=1391023266211#c8758720086795711595).\n",
    "\n",
    "One avenue you can explore is to add multiple layers.\n",
    "\n",
    "Another one is to use learning rate decay:\n",
    "\n",
    "    global_step = tf.Variable(0)  # count the number of steps taken.\n",
    "    learning_rate = tf.train.exponential_decay(0.5, global_step, ...)\n",
    "    optimizer = tf.train.GradientDescentOptimizer(learning_rate).minimize(loss, global_step=global_step)\n",
    " \n",
    " ---\n"
   ]
  },
  {
   "cell_type": "code",
   "execution_count": 81,
   "metadata": {},
   "outputs": [],
   "source": [
    "batch_size = 512  # for Stochastic Gradient Descent\n",
    "num_relu_1 = 170\n",
    "num_relu_2 = 200\n",
    "# num_relu_2 = num_labels\n",
    "\n",
    "# Regulization param\n",
    "beta = 0.01\n",
    "# learning_rate = 0.1\n",
    "\n",
    "graph_deep = tf.Graph()\n",
    "with graph_deep.as_default():   \n",
    "    def forward_prop(input_data, weights, biases, keep_prob):\n",
    "        out_1 = tf.matmul(input_data, weights[0]) + biases[0]\n",
    "        out_2 = tf.nn.dropout(tf.nn.relu(out_1), keep_prob)  # dropout here\n",
    "        out_3 = tf.matmul(out_2, weights[1]) + biases[1]\n",
    "        out_4 = tf.nn.dropout(tf.nn.relu(out_3), keep_prob)  # dropout here\n",
    "        out_5 = tf.matmul(out_4, weights[2]) + biases[2]  # logits\n",
    "        return out_5\n",
    "\n",
    "    # Input data\n",
    "    gr_train_dataset = tf.placeholder(tf.float32, shape=(batch_size, image_size * image_size))\n",
    "    gr_train_labels = tf.placeholder(tf.float32, shape=(batch_size, num_labels))\n",
    "    gr_valid_dataset = tf.constant(valid_dataset)\n",
    "    gr_test_dataset = tf.constant(test_dataset)\n",
    "    \n",
    "    # Network structure\n",
    "    # Layer 1 - linear\n",
    "    layer_1_linear_wei = tf.Variable(tf.truncated_normal([image_size * image_size, num_relu_1]))\n",
    "    layer_1_linear_bia = tf.Variable(tf.zeros([num_relu_1]))\n",
    "    # Layer 2 - ReLU\n",
    "    # Layer 3 - linear\n",
    "    layer_3_linear_wei = tf.Variable(tf.truncated_normal([num_relu_1, num_relu_2]))\n",
    "    layer_3_linear_bia = tf.Variable(tf.zeros([num_relu_2]))\n",
    "    # Layer 4 - ReLU\n",
    "    # Layer 5 - linear\n",
    "    layer_5_linear_wei = tf.Variable(tf.truncated_normal([num_relu_2, num_labels]))\n",
    "    layer_5_linear_bia = tf.Variable(tf.zeros([num_labels]))\n",
    "    # Store weights & biases into lists\n",
    "    weights = [layer_1_linear_wei, layer_3_linear_wei, layer_5_linear_wei]\n",
    "    biases = [layer_1_linear_bia, layer_3_linear_bia, layer_5_linear_bia]\n",
    "    \n",
    "    # Compute loss function\n",
    "    logits_deep = forward_prop(gr_train_dataset, weights, biases, 0.5)\n",
    "    loss = tf.reduce_mean(tf.nn.softmax_cross_entropy_with_logits(labels=gr_train_labels, logits=logits_deep))\n",
    "    # Add L2 regularization to loss function\n",
    "    for wei_bia in zip(weights, biases):\n",
    "        loss += beta * (tf.nn.l2_loss(wei_bia[0]) + tf.nn.l2_loss(wei_bia[1]))\n",
    "        \n",
    "    # Optimizer\n",
    "    # compute learning rate\n",
    "    global_step = tf.Variable(0)  # count how many steps has been made\n",
    "    learning_rate = tf.train.exponential_decay(0.1, global_step, 100, 1.0)\n",
    "    \n",
    "    optimizer = tf.train.GradientDescentOptimizer(learning_rate).minimize(loss, global_step= global_step)\n",
    "    \n",
    "    # compute network prediction\n",
    "    train_prediction = tf.nn.softmax(logits_deep)\n",
    "    valid_prediction = tf.nn.softmax(forward_prop(gr_valid_dataset, weights, biases, 1))\n",
    "    test_prediction = tf.nn.softmax(forward_prop(gr_test_dataset, weights, biases, 1))\n",
    "    "
   ]
  },
  {
   "cell_type": "code",
   "execution_count": 82,
   "metadata": {},
   "outputs": [
    {
     "name": "stdout",
     "output_type": "stream",
     "text": [
      "Initialized\n",
      "Step:0\t\t Loss:3338.534\t\t Train acc:10.0\t\t Valid acc:25.8\n",
      "Step:500\t\t Loss:236.603\t\t Train acc:25.6\t\t Valid acc:23.7\n",
      "Step:1000\t\t Loss:87.573\t\t Train acc:49.6\t\t Valid acc:66.7\n",
      "Step:1500\t\t Loss:32.649\t\t Train acc:70.9\t\t Valid acc:77.9\n",
      "Step:2000\t\t Loss:12.514\t\t Train acc:77.7\t\t Valid acc:81.7\n",
      "Step:2500\t\t Loss:5.170\t\t Train acc:77.3\t\t Valid acc:82.9\n",
      "Step:3000\t\t Loss:2.412\t\t Train acc:80.9\t\t Valid acc:83.7\n",
      "Test accuracy: 89.5%\n"
     ]
    }
   ],
   "source": [
    "# TRAINING\n",
    "num_steps = 3001\n",
    "\n",
    "with tf.Session(graph=graph_deep) as session:\n",
    "    # Initialized tf.placeholder\n",
    "    tf.global_variables_initializer().run()\n",
    "    print(\"Initialized\")\n",
    "    for step in range(num_steps):\n",
    "        # Pick an offset within the training data, which has been randomized.\n",
    "        offset = (step * batch_size) % (train_labels.shape[0] - batch_size)\n",
    "        \n",
    "        # Generate a minibatch.\n",
    "        batch_data = train_dataset[offset:(offset + batch_size), :]\n",
    "        batch_labels = train_labels[offset:(offset + batch_size), :]\n",
    "        \n",
    "        # Prepare a dictionary telling the session where to feed the minibatch.\n",
    "        # The key of the dictionary is the placeholder node of the graph to be fed,\n",
    "        # and the value is the numpy array to feed to it.\n",
    "        feed_dict = {gr_train_dataset : batch_data, gr_train_labels : batch_labels}\n",
    "        \n",
    "        _, l, predictions = session.run(\n",
    "            [optimizer, loss, train_prediction], feed_dict=feed_dict)\n",
    "        \n",
    "        if (step % 500 == 0):\n",
    "            print(\"Step:%d\\t\\t Loss:%.3f\\t\\t Train acc:%.1f\\t\\t Valid acc:%.1f\" % \n",
    "                  (step, l, accuracy(predictions, batch_labels), accuracy(valid_prediction.eval(), valid_labels)))\n",
    "#             print(\"Minibatch loss at step %d: %f\" % (step, l))\n",
    "#             print(\"Minibatch accuracy: %.1f%%\" % accuracy(predictions, batch_labels))\n",
    "#             print(\"Validation accuracy: %.1f%%\" % accuracy(valid_prediction.eval(), valid_labels))\n",
    "    \n",
    "    #Check out the test accuracy\n",
    "    print(\"Test accuracy: %.1f%%\" % accuracy(test_prediction.eval(), test_labels))"
   ]
  },
  {
   "cell_type": "code",
   "execution_count": null,
   "metadata": {},
   "outputs": [],
   "source": []
  }
 ],
 "metadata": {
  "colab": {
   "default_view": {},
   "name": "3_regularization.ipynb",
   "provenance": [],
   "version": "0.3.2",
   "views": {}
  },
  "kernelspec": {
   "display_name": "Python 2",
   "language": "python",
   "name": "python2"
  },
  "language_info": {
   "codemirror_mode": {
    "name": "ipython",
    "version": 2
   },
   "file_extension": ".py",
   "mimetype": "text/x-python",
   "name": "python",
   "nbconvert_exporter": "python",
   "pygments_lexer": "ipython2",
   "version": "2.7.12"
  }
 },
 "nbformat": 4,
 "nbformat_minor": 1
}
